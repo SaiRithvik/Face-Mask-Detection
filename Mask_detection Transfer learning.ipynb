{
 "cells": [
  {
   "cell_type": "code",
   "execution_count": 1,
   "metadata": {},
   "outputs": [
    {
     "name": "stderr",
     "output_type": "stream",
     "text": [
      "Using TensorFlow backend.\n"
     ]
    },
    {
     "name": "stdout",
     "output_type": "stream",
     "text": [
      "Found 1185 images belonging to 2 classes.\n",
      "Found 18 images belonging to 2 classes.\n"
     ]
    }
   ],
   "source": [
    "import numpy as np\n",
    "from keras.preprocessing.image import ImageDataGenerator\n",
    "from keras.models import Sequential\n",
    "import cv2\n",
    "BATCH_SIZE = 32\n",
    "\n",
    "trainGen = ImageDataGenerator(\n",
    "    rescale= 1/255.,\n",
    "    horizontal_flip=True,\n",
    "    validation_split = 0.1\n",
    ")\n",
    "\n",
    "testGen = ImageDataGenerator(\n",
    "    rescale= 1/255.,\n",
    ")\n",
    "\n",
    "train = trainGen.flow_from_directory(\n",
    "    'C:\\\\Users\\\\ADMIN\\\\Desktop\\\\BITTU\\\\Verzeo AI\\\\LIVE MASK DETECTION\\\\dest_folder\\\\train', \n",
    "    target_size=(224, 224),\n",
    "    classes=['with_mask','without_mask'],\n",
    "    class_mode='categorical', \n",
    "    batch_size=BATCH_SIZE, \n",
    "    shuffle=True,\n",
    "    subset='training'\n",
    ")\n",
    "\n",
    "validation = trainGen.flow_from_directory(\n",
    "    'C:\\\\Users\\\\ADMIN\\\\Desktop\\\\BITTU\\\\Verzeo AI\\\\LIVE MASK DETECTION\\\\dest_folder\\\\test', \n",
    "    target_size=(224, 224),\n",
    "    classes=['with_mask','without_mask'],\n",
    "    class_mode='categorical', \n",
    "    batch_size=BATCH_SIZE, \n",
    "    shuffle=True,\n",
    "    subset='validation'\n",
    ")"
   ]
  },
  {
   "cell_type": "code",
   "execution_count": 2,
   "metadata": {},
   "outputs": [],
   "source": [
    "import tensorflow as tf\n",
    "import keras\n",
    "from keras.layers import GlobalAveragePooling2D\n",
    "from keras.layers import Dense, Dropout\n",
    "from keras.callbacks import ModelCheckpoint"
   ]
  },
  {
   "cell_type": "code",
   "execution_count": 3,
   "metadata": {},
   "outputs": [],
   "source": [
    "from keras.applications import MobileNetV2\n",
    "mob = MobileNetV2(input_shape = (224,224,3),\n",
    "    include_top = False,\n",
    "    weights = 'imagenet')"
   ]
  },
  {
   "cell_type": "code",
   "execution_count": 4,
   "metadata": {},
   "outputs": [
    {
     "name": "stdout",
     "output_type": "stream",
     "text": [
      "Model: \"sequential_1\"\n",
      "_________________________________________________________________\n",
      "Layer (type)                 Output Shape              Param #   \n",
      "=================================================================\n",
      "mobilenetv2_1.00_224 (Model) (None, 7, 7, 1280)        2257984   \n",
      "_________________________________________________________________\n",
      "global_average_pooling2d_1 ( (None, 1280)              0         \n",
      "_________________________________________________________________\n",
      "dense_1 (Dense)              (None, 64)                81984     \n",
      "_________________________________________________________________\n",
      "dropout_1 (Dropout)          (None, 64)                0         \n",
      "_________________________________________________________________\n",
      "dense_2 (Dense)              (None, 2)                 130       \n",
      "=================================================================\n",
      "Total params: 2,340,098\n",
      "Trainable params: 82,114\n",
      "Non-trainable params: 2,257,984\n",
      "_________________________________________________________________\n"
     ]
    }
   ],
   "source": [
    "mob.trainable = False\n",
    "\n",
    "model = Sequential()\n",
    "model.add(mob)\n",
    "model.add(GlobalAveragePooling2D())\n",
    "model.add(Dense(64,activation='relu'))\n",
    "model.add(Dropout(0.3))\n",
    "model.add(Dense(2,activation='softmax'))\n",
    "model.summary()\n",
    "\n",
    "model.compile(optimizer='adam',loss='categorical_crossentropy',metrics=['acc'])\n",
    "\n",
    "checkpoint = ModelCheckpoint(\n",
    "    'model.h5',\n",
    "    monitor='val_loss',\n",
    "    verbose=1,\n",
    "    save_best_only=True,\n",
    "    save_weights_only=True,\n",
    "    mode='min'\n",
    ")\n",
    "\n"
   ]
  },
  {
   "cell_type": "code",
   "execution_count": 21,
   "metadata": {},
   "outputs": [
    {
     "name": "stdout",
     "output_type": "stream",
     "text": [
      "Epoch 1/15\n",
      "38/38 [==============================] - 107s 3s/step - loss: 0.0756 - acc: 0.9696 - val_loss: 0.2284 - val_acc: 0.9444\n",
      "\n",
      "Epoch 00001: val_loss did not improve from 0.03202\n",
      "Epoch 2/15\n",
      "38/38 [==============================] - 117s 3s/step - loss: 0.1452 - acc: 0.9527 - val_loss: 0.0845 - val_acc: 0.9444\n",
      "\n",
      "Epoch 00002: val_loss did not improve from 0.03202\n",
      "Epoch 3/15\n",
      "38/38 [==============================] - 110s 3s/step - loss: 0.2157 - acc: 0.9494 - val_loss: 0.0440 - val_acc: 1.0000\n",
      "\n",
      "Epoch 00003: val_loss did not improve from 0.03202\n",
      "Epoch 4/15\n",
      "38/38 [==============================] - 108s 3s/step - loss: 0.1615 - acc: 0.9502 - val_loss: 0.2067 - val_acc: 0.9444\n",
      "\n",
      "Epoch 00004: val_loss did not improve from 0.03202\n",
      "Epoch 5/15\n",
      "38/38 [==============================] - 111s 3s/step - loss: 0.1587 - acc: 0.9637 - val_loss: 0.2313 - val_acc: 0.9444\n",
      "\n",
      "Epoch 00005: val_loss did not improve from 0.03202\n",
      "Epoch 6/15\n",
      "38/38 [==============================] - 111s 3s/step - loss: 0.2216 - acc: 0.9511 - val_loss: 0.6668 - val_acc: 0.8889\n",
      "\n",
      "Epoch 00006: val_loss did not improve from 0.03202\n",
      "Epoch 7/15\n",
      "38/38 [==============================] - 112s 3s/step - loss: 0.1002 - acc: 0.9662 - val_loss: 0.2326 - val_acc: 0.9444\n",
      "\n",
      "Epoch 00007: val_loss did not improve from 0.03202\n",
      "Epoch 8/15\n",
      "38/38 [==============================] - 102s 3s/step - loss: 0.0568 - acc: 0.9840 - val_loss: 0.0507 - val_acc: 0.9444\n",
      "\n",
      "Epoch 00008: val_loss did not improve from 0.03202\n",
      "Epoch 9/15\n",
      "38/38 [==============================] - 110s 3s/step - loss: 0.1494 - acc: 0.9477 - val_loss: 0.0503 - val_acc: 0.9444\n",
      "\n",
      "Epoch 00009: val_loss did not improve from 0.03202\n",
      "Epoch 10/15\n",
      "38/38 [==============================] - 117s 3s/step - loss: 0.1479 - acc: 0.9527 - val_loss: 0.2526 - val_acc: 0.9444\n",
      "\n",
      "Epoch 00010: val_loss did not improve from 0.03202\n",
      "Epoch 11/15\n",
      "38/38 [==============================] - 110s 3s/step - loss: 0.0568 - acc: 0.9772 - val_loss: 0.2068 - val_acc: 0.9444\n",
      "\n",
      "Epoch 00011: val_loss did not improve from 0.03202\n",
      "Epoch 12/15\n",
      "38/38 [==============================] - 107s 3s/step - loss: 0.0629 - acc: 0.9764 - val_loss: 0.1875 - val_acc: 0.9444\n",
      "\n",
      "Epoch 00012: val_loss did not improve from 0.03202\n",
      "Epoch 13/15\n",
      "38/38 [==============================] - 107s 3s/step - loss: 0.0745 - acc: 0.9764 - val_loss: 0.2482 - val_acc: 0.9444\n",
      "\n",
      "Epoch 00013: val_loss did not improve from 0.03202\n",
      "Epoch 14/15\n",
      "38/38 [==============================] - 111s 3s/step - loss: 0.0626 - acc: 0.9797 - val_loss: 0.3161 - val_acc: 0.9444\n",
      "\n",
      "Epoch 00014: val_loss did not improve from 0.03202\n",
      "Epoch 15/15\n",
      "38/38 [==============================] - 119s 3s/step - loss: 0.0520 - acc: 0.9831 - val_loss: 0.2017 - val_acc: 0.9444\n",
      "\n",
      "Epoch 00015: val_loss did not improve from 0.03202\n"
     ]
    }
   ],
   "source": [
    "'''\n",
    "hist = model.fit(\n",
    "    train,\n",
    "    epochs = 15,\n",
    "    validation_data = validation,\n",
    "    callbacks = [checkpoint]\n",
    ")\n",
    "'''"
   ]
  },
  {
   "cell_type": "code",
   "execution_count": 5,
   "metadata": {},
   "outputs": [],
   "source": [
    "model.load_weights('model.h5')"
   ]
  },
  {
   "cell_type": "code",
   "execution_count": 6,
   "metadata": {},
   "outputs": [],
   "source": [
    "from keras.models import load_model\n",
    "#model = load_model('model.h5')\n",
    "\n",
    "resMap = {\n",
    "        0 : 'Mask On',\n",
    "        1 : 'Kindly Wear Mask'\n",
    "    }\n",
    "\n",
    "colorMap = {\n",
    "        0 : (0,255,0),\n",
    "        1 : (0,0,255)\n",
    "    }\n",
    "\n",
    "def prepImg(pth):\n",
    "    return cv2.resize(pth,(224,224)).reshape(1,224,224,3)/255.0\n",
    "\n",
    "classifier = cv2.CascadeClassifier('haarcascade_frontalface_default.xml')\n",
    "\n",
    "cap = cv2.VideoCapture(0)\n",
    "while True:\n",
    "    ret,img = cap.read()\n",
    "    faces = classifier.detectMultiScale(cv2.cvtColor(img,cv2.COLOR_BGR2GRAY),1.1,2)\n",
    "\n",
    "    for face in faces:\n",
    "        slicedImg = img[face[1]:face[1]+face[3],face[0]:face[0]+face[2]]\n",
    "        pred = model.predict(prepImg(img))\n",
    "        pred = np.argmax(pred)\n",
    "\n",
    "        cv2.rectangle(img,(face[0],face[1]),(face[0]+face[2],face[1]+face[3]),colorMap[pred],2)\n",
    "        cv2.putText(img, resMap[pred],(face[0],face[1]-10),cv2.FONT_HERSHEY_SIMPLEX,0.8,(255,255,255),2)        \n",
    "        \n",
    "                \n",
    "    cv2.imshow('FaceMask Detection',img)\n",
    "    if cv2.waitKey(1) & 0xff == ord('q'):\n",
    "        break\n",
    "    \n",
    "cap.release()\n",
    "cv2.destroyAllWindows()"
   ]
  },
  {
   "cell_type": "code",
   "execution_count": null,
   "metadata": {},
   "outputs": [],
   "source": []
  },
  {
   "cell_type": "code",
   "execution_count": null,
   "metadata": {},
   "outputs": [],
   "source": []
  }
 ],
 "metadata": {
  "kernelspec": {
   "display_name": "Python 3",
   "language": "python",
   "name": "python3"
  },
  "language_info": {
   "codemirror_mode": {
    "name": "ipython",
    "version": 3
   },
   "file_extension": ".py",
   "mimetype": "text/x-python",
   "name": "python",
   "nbconvert_exporter": "python",
   "pygments_lexer": "ipython3",
   "version": "3.7.7"
  }
 },
 "nbformat": 4,
 "nbformat_minor": 4
}
